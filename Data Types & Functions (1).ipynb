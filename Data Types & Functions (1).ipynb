{
 "cells": [
  {
   "cell_type": "markdown",
   "id": "03b4a674",
   "metadata": {},
   "source": [
    "# Session 1\n",
    "- Data Science and Machine Learning"
   ]
  },
  {
   "cell_type": "markdown",
   "id": "f168a0ed",
   "metadata": {},
   "source": [
    "## Data Types\n",
    "\n",
    "- Integer\n",
    "- Floats\n",
    "- Strings\n",
    "- Booleans\n",
    "- Lists\n",
    "- Tuples\n",
    "- Sets\n",
    "- Dictionaries"
   ]
  },
  {
   "cell_type": "code",
   "execution_count": null,
   "id": "16e1a4c6",
   "metadata": {},
   "outputs": [],
   "source": [
    "# use help to find out methods available to a data type\n",
    "\n",
    "help(str)\n",
    "# help(1)\n",
    "# help(float)"
   ]
  },
  {
   "cell_type": "markdown",
   "id": "37f2607f",
   "metadata": {},
   "source": [
    "## Integers\n",
    "Int, or integer, is a whole number, positive or negative, without decimals, of unlimited length."
   ]
  },
  {
   "cell_type": "code",
   "execution_count": null,
   "id": "be07065b",
   "metadata": {},
   "outputs": [],
   "source": [
    "# Whole Numbers\n",
    "# type(120)"
   ]
  },
  {
   "cell_type": "code",
   "execution_count": null,
   "id": "a4178f16",
   "metadata": {},
   "outputs": [],
   "source": [
    "type(120)"
   ]
  },
  {
   "cell_type": "code",
   "execution_count": null,
   "id": "048def96",
   "metadata": {},
   "outputs": [],
   "source": [
    "type(0.33)"
   ]
  },
  {
   "cell_type": "code",
   "execution_count": null,
   "id": "29fb28ed",
   "metadata": {},
   "outputs": [],
   "source": [
    "type(\"nigeria\")"
   ]
  },
  {
   "cell_type": "code",
   "execution_count": null,
   "id": "6e60419d",
   "metadata": {},
   "outputs": [],
   "source": [
    "type(\"yes\")"
   ]
  },
  {
   "cell_type": "code",
   "execution_count": null,
   "id": "5e1cab99",
   "metadata": {},
   "outputs": [],
   "source": [
    "First_name =input (\"what is your first Nane \")\n",
    "Sur_name = input (\"what is your surname \")\n",
    "full_name = First_name + \" \" + Sur_name\n",
    "print (full_name)\n",
    "len(full_name)\n"
   ]
  },
  {
   "cell_type": "code",
   "execution_count": null,
   "id": "3480ffb0",
   "metadata": {},
   "outputs": [],
   "source": []
  },
  {
   "cell_type": "code",
   "execution_count": null,
   "id": "6e11b47f",
   "metadata": {},
   "outputs": [],
   "source": []
  },
  {
   "cell_type": "code",
   "execution_count": null,
   "id": "7073e365",
   "metadata": {},
   "outputs": [],
   "source": []
  },
  {
   "cell_type": "code",
   "execution_count": null,
   "id": "aab7e8bb",
   "metadata": {},
   "outputs": [],
   "source": []
  },
  {
   "cell_type": "code",
   "execution_count": null,
   "id": "033a8a9c",
   "metadata": {},
   "outputs": [],
   "source": []
  },
  {
   "cell_type": "code",
   "execution_count": null,
   "id": "e11b668a",
   "metadata": {},
   "outputs": [],
   "source": [
    "country = Nigeria\n",
    "country"
   ]
  },
  {
   "cell_type": "code",
   "execution_count": null,
   "id": "02546d68",
   "metadata": {},
   "outputs": [],
   "source": [
    "a= 12\n",
    "a."
   ]
  },
  {
   "cell_type": "code",
   "execution_count": null,
   "id": "a4e71d81",
   "metadata": {},
   "outputs": [],
   "source": [
    "type(120)\n"
   ]
  },
  {
   "cell_type": "markdown",
   "id": "318b6d78",
   "metadata": {},
   "source": [
    "## Float\n",
    "The difference between floating points and integers is decimal points. Floating point number can be represented as “1.0”, and integer can be represented as “1”. It is accurate up to 15 decimal places."
   ]
  },
  {
   "cell_type": "code",
   "execution_count": null,
   "id": "403e4ee9",
   "metadata": {},
   "outputs": [],
   "source": [
    "1.0"
   ]
  },
  {
   "cell_type": "code",
   "execution_count": null,
   "id": "ca6facd2",
   "metadata": {},
   "outputs": [],
   "source": [
    "type(1.0)"
   ]
  },
  {
   "cell_type": "markdown",
   "id": "2bd41bdf",
   "metadata": {},
   "source": [
    "## Basic Arithmetic\n",
    "The basic arithmetic operations for real numbers are addition, subtraction, multiplication, and division"
   ]
  },
  {
   "cell_type": "code",
   "execution_count": null,
   "id": "8d86a076",
   "metadata": {},
   "outputs": [],
   "source": [
    "# Addition\n",
    "100 + 100"
   ]
  },
  {
   "cell_type": "code",
   "execution_count": null,
   "id": "b8650aa9",
   "metadata": {},
   "outputs": [],
   "source": [
    "2+2"
   ]
  },
  {
   "cell_type": "code",
   "execution_count": null,
   "id": "43ef38d1",
   "metadata": {},
   "outputs": [],
   "source": [
    "Age = 15\n",
    "Age * Age"
   ]
  },
  {
   "cell_type": "code",
   "execution_count": null,
   "id": "f14f4f61",
   "metadata": {},
   "outputs": [],
   "source": [
    "2-2"
   ]
  },
  {
   "cell_type": "code",
   "execution_count": null,
   "id": "31e62bc7",
   "metadata": {},
   "outputs": [],
   "source": [
    "a=5\n",
    "b=7\n",
    "c=12\n",
    "if a < b\n",
    "    print(\"welcome to python \")"
   ]
  },
  {
   "cell_type": "code",
   "execution_count": null,
   "id": "6cd312d4",
   "metadata": {},
   "outputs": [],
   "source": []
  },
  {
   "cell_type": "code",
   "execution_count": null,
   "id": "889d5f43",
   "metadata": {},
   "outputs": [],
   "source": [
    "# Subtraction\n",
    "2-2"
   ]
  },
  {
   "cell_type": "code",
   "execution_count": null,
   "id": "3f7dcc10",
   "metadata": {},
   "outputs": [],
   "source": [
    "10-20"
   ]
  },
  {
   "cell_type": "code",
   "execution_count": null,
   "id": "8bddc535",
   "metadata": {},
   "outputs": [],
   "source": [
    "# Multiplication\n",
    "20 * 5"
   ]
  },
  {
   "cell_type": "code",
   "execution_count": null,
   "id": "7721e51c",
   "metadata": {},
   "outputs": [],
   "source": [
    "100 * 2"
   ]
  },
  {
   "cell_type": "code",
   "execution_count": null,
   "id": "dc8e19d5",
   "metadata": {},
   "outputs": [],
   "source": [
    "# Division\n",
    "10/5"
   ]
  },
  {
   "cell_type": "code",
   "execution_count": null,
   "id": "e1b00813",
   "metadata": {},
   "outputs": [],
   "source": [
    "250/3"
   ]
  },
  {
   "cell_type": "code",
   "execution_count": null,
   "id": "1fe40827",
   "metadata": {},
   "outputs": [],
   "source": [
    "# Floor Division\n",
    "10//6"
   ]
  },
  {
   "cell_type": "code",
   "execution_count": null,
   "id": "07d9d6c5",
   "metadata": {},
   "outputs": [],
   "source": [
    "100//30"
   ]
  },
  {
   "cell_type": "code",
   "execution_count": null,
   "id": "1363c1cc",
   "metadata": {},
   "outputs": [],
   "source": [
    "# Modulo - To get the reminder\n",
    "100%30"
   ]
  },
  {
   "cell_type": "code",
   "execution_count": null,
   "id": "6a34e597",
   "metadata": {},
   "outputs": [],
   "source": [
    "10%6"
   ]
  },
  {
   "cell_type": "code",
   "execution_count": null,
   "id": "0664fb37",
   "metadata": {},
   "outputs": [],
   "source": [
    "# Raised to Power\n",
    "36**2"
   ]
  },
  {
   "cell_type": "code",
   "execution_count": null,
   "id": "bc84ce2d",
   "metadata": {},
   "outputs": [],
   "source": [
    "2**10"
   ]
  },
  {
   "cell_type": "code",
   "execution_count": null,
   "id": "ec10574b",
   "metadata": {},
   "outputs": [],
   "source": [
    "# Square-root\n",
    "1500**0.5"
   ]
  },
  {
   "cell_type": "code",
   "execution_count": null,
   "id": "9f302ab9",
   "metadata": {},
   "outputs": [],
   "source": [
    "121**0.5"
   ]
  },
  {
   "cell_type": "code",
   "execution_count": null,
   "id": "82fcb196",
   "metadata": {},
   "outputs": [],
   "source": [
    "# Order of Operation - BODMAS\n",
    "10 + 25 - 6 / 0.5 * 5"
   ]
  },
  {
   "cell_type": "code",
   "execution_count": null,
   "id": "d70cab19",
   "metadata": {},
   "outputs": [],
   "source": [
    "(10 + 25 - 6) / (0.5*5)"
   ]
  },
  {
   "cell_type": "code",
   "execution_count": null,
   "id": "19cb1ca1",
   "metadata": {},
   "outputs": [],
   "source": [
    "Test_score = 5\n",
    "Exam_score =7\n",
    "second_test = 12\n",
    "total = Test_score + Exam_score + second_test\n",
    "print(the score is {}.format(total))"
   ]
  },
  {
   "cell_type": "code",
   "execution_count": null,
   "id": "a382680a",
   "metadata": {},
   "outputs": [],
   "source": [
    "country =  nigeria\n",
    "country."
   ]
  },
  {
   "cell_type": "code",
   "execution_count": null,
   "id": "a1e7d0b2",
   "metadata": {},
   "outputs": [],
   "source": []
  },
  {
   "cell_type": "code",
   "execution_count": null,
   "id": "2543bb61",
   "metadata": {},
   "outputs": [],
   "source": [
    "125**(1/3)"
   ]
  },
  {
   "cell_type": "code",
   "execution_count": null,
   "id": "166388ea",
   "metadata": {},
   "outputs": [],
   "source": [
    "# Floats\n",
    "type(0.5)"
   ]
  },
  {
   "cell_type": "markdown",
   "id": "4af8487a",
   "metadata": {},
   "source": [
    "## Variable Assignment\n",
    "Variables can store data of different types"
   ]
  },
  {
   "cell_type": "code",
   "execution_count": null,
   "id": "4fc767b7",
   "metadata": {},
   "outputs": [],
   "source": [
    "age = 22"
   ]
  },
  {
   "cell_type": "code",
   "execution_count": null,
   "id": "e024dd45",
   "metadata": {},
   "outputs": [],
   "source": [
    "age"
   ]
  },
  {
   "cell_type": "code",
   "execution_count": null,
   "id": "016469cc",
   "metadata": {},
   "outputs": [],
   "source": [
    "age * age"
   ]
  },
  {
   "cell_type": "code",
   "execution_count": null,
   "id": "06fab564",
   "metadata": {},
   "outputs": [],
   "source": [
    "22 * 22"
   ]
  },
  {
   "cell_type": "code",
   "execution_count": null,
   "id": "03980e94",
   "metadata": {},
   "outputs": [],
   "source": [
    "#Dont start with a number\n",
    "#Dont start with special characters\n",
    "#NO SPACE\n",
    "\n",
    "total_Cost = 1"
   ]
  },
  {
   "cell_type": "code",
   "execution_count": null,
   "id": "0ddbcc8c",
   "metadata": {},
   "outputs": [],
   "source": [
    "dami = 100"
   ]
  },
  {
   "cell_type": "code",
   "execution_count": null,
   "id": "1a305f56",
   "metadata": {},
   "outputs": [],
   "source": [
    "dami"
   ]
  },
  {
   "cell_type": "code",
   "execution_count": null,
   "id": "27b6f08f",
   "metadata": {},
   "outputs": [],
   "source": [
    "# Example\n",
    "first_test = 5\n",
    "second_test = 10\n",
    "attendance = 2\n",
    "exam = 55\n",
    "\n",
    "total_score = first_test + second_test + attendance + exam\n",
    "\n",
    "total_score"
   ]
  },
  {
   "cell_type": "code",
   "execution_count": null,
   "id": "7c5c13f0",
   "metadata": {},
   "outputs": [],
   "source": [
    "# Student Calculator\n",
    "\n",
    "first_test = int(input(\"What is your score for first test: \"))\n",
    "second_test = int(input(\"What is your score for second test: \"))\n",
    "attendance = int(input(\"What is your score for attendance: \"))\n",
    "exam = int(input(\"What is your score for exam: \"))\n",
    "\n",
    "total_score = first_test + second_test + attendance + exam\n",
    "\n",
    "total_score"
   ]
  },
  {
   "cell_type": "markdown",
   "id": "66aa907c",
   "metadata": {},
   "source": [
    "## Strings\n",
    "A String is a sequence of Unicode characters. In Python, String is called str. \n",
    "Strings are represented by using Double quotes or single quotes. \n",
    "If the strings are multiple, then it can be denoted by the use of triple quotes “”” or ”’. \n",
    "All the characters between the quotes are items of the string."
   ]
  },
  {
   "cell_type": "code",
   "execution_count": null,
   "id": "759af89c",
   "metadata": {},
   "outputs": [],
   "source": [
    "# Strings - Text\n",
    "\"hello world\""
   ]
  },
  {
   "cell_type": "code",
   "execution_count": null,
   "id": "ae4db9c2",
   "metadata": {},
   "outputs": [],
   "source": [
    "'hello world'"
   ]
  },
  {
   "cell_type": "code",
   "execution_count": null,
   "id": "50cd0101",
   "metadata": {},
   "outputs": [],
   "source": [
    "print(\"Hello World\")"
   ]
  },
  {
   "cell_type": "code",
   "execution_count": null,
   "id": "87166aff",
   "metadata": {},
   "outputs": [],
   "source": [
    "type(\"Damilola\")"
   ]
  },
  {
   "cell_type": "code",
   "execution_count": null,
   "id": "98fc31c5",
   "metadata": {},
   "outputs": [],
   "source": [
    "\"i'm a boy\""
   ]
  },
  {
   "cell_type": "code",
   "execution_count": null,
   "id": "9f3e4aa2",
   "metadata": {},
   "outputs": [],
   "source": [
    "len(\"Ademola\")"
   ]
  },
  {
   "cell_type": "code",
   "execution_count": null,
   "id": "80f6e34e",
   "metadata": {},
   "outputs": [],
   "source": [
    "#tags - tab, Next line\n",
    "print(\"my name is \\tEfemena\")\n",
    "\n",
    "print(\"My name is \\nEfemena\")"
   ]
  },
  {
   "cell_type": "code",
   "execution_count": null,
   "id": "5a868fa3",
   "metadata": {},
   "outputs": [],
   "source": [
    "name = \"Chuka\""
   ]
  },
  {
   "cell_type": "code",
   "execution_count": null,
   "id": "6c1a1a5d",
   "metadata": {},
   "outputs": [],
   "source": [
    "name"
   ]
  },
  {
   "cell_type": "code",
   "execution_count": null,
   "id": "d9b27b25",
   "metadata": {},
   "outputs": [],
   "source": [
    "first_name = input(\"What is your first name: \")\n",
    "last_name = input(\"What is your last name: \")\n",
    "\n",
    "full_name = first_name + \" \" + last_name\n",
    "\n",
    "full_name"
   ]
  },
  {
   "cell_type": "code",
   "execution_count": null,
   "id": "c69f30f6",
   "metadata": {},
   "outputs": [],
   "source": [
    "len(full_name)"
   ]
  },
  {
   "cell_type": "code",
   "execution_count": null,
   "id": "3ee6e33b",
   "metadata": {},
   "outputs": [],
   "source": [
    "First_name =input( \"what is your first name\" )\n",
    "sur_name = input( \"what is your surname\" )\n",
    "\n",
    "full_name = First_name + \" \"+ sur_name\n",
    "print(full_name )\n",
    "len(full_name)"
   ]
  },
  {
   "cell_type": "code",
   "execution_count": null,
   "id": "aa122b90",
   "metadata": {},
   "outputs": [],
   "source": []
  },
  {
   "cell_type": "code",
   "execution_count": null,
   "id": "a548f877",
   "metadata": {},
   "outputs": [],
   "source": []
  },
  {
   "cell_type": "code",
   "execution_count": null,
   "id": "d5f7fb13",
   "metadata": {},
   "outputs": [],
   "source": []
  },
  {
   "cell_type": "code",
   "execution_count": null,
   "id": "be033110",
   "metadata": {},
   "outputs": [],
   "source": []
  },
  {
   "cell_type": "markdown",
   "id": "0900af63",
   "metadata": {},
   "source": [
    "## Indexing and Slicing\n",
    "- Indexing: Indexing is used to obtain individual elements.\n",
    "- Slicing: Slicing is used to obtain a sequence of elements.\n",
    "\n",
    "\n",
    "Indexing starts from 0. Index 0 represents the first element in the sequence.\n",
    "Negative indexing starts from -1. Index -1 represents the last element in the sequence."
   ]
  },
  {
   "cell_type": "code",
   "execution_count": null,
   "id": "7d1c5ffa",
   "metadata": {},
   "outputs": [],
   "source": [
    "#Indexing\n",
    "full_name[]"
   ]
  },
  {
   "cell_type": "code",
   "execution_count": null,
   "id": "33bebb76",
   "metadata": {},
   "outputs": [],
   "source": [
    "full_name[5]"
   ]
  },
  {
   "cell_type": "code",
   "execution_count": null,
   "id": "64a62de7",
   "metadata": {},
   "outputs": [],
   "source": [
    "full_name[-2]"
   ]
  },
  {
   "cell_type": "code",
   "execution_count": null,
   "id": "74e79b14",
   "metadata": {},
   "outputs": [],
   "source": [
    "# Slicing\n",
    "full_name"
   ]
  },
  {
   "cell_type": "code",
   "execution_count": null,
   "id": "80b10a18",
   "metadata": {},
   "outputs": [],
   "source": [
    "full_name[:] "
   ]
  },
  {
   "cell_type": "markdown",
   "id": "d0453b41",
   "metadata": {},
   "source": [
    "### [START : STOP : STEP]\n",
    "     [0 : 14 : 2]"
   ]
  },
  {
   "cell_type": "code",
   "execution_count": null,
   "id": "709733cb",
   "metadata": {},
   "outputs": [],
   "source": [
    "full_name[1:8]"
   ]
  },
  {
   "cell_type": "code",
   "execution_count": null,
   "id": "435f5e7c",
   "metadata": {},
   "outputs": [],
   "source": [
    "full_name[5:]"
   ]
  },
  {
   "cell_type": "code",
   "execution_count": null,
   "id": "2f25cbe0",
   "metadata": {},
   "outputs": [],
   "source": [
    "full_name[0:4]"
   ]
  },
  {
   "cell_type": "code",
   "execution_count": null,
   "id": "c324aa1d",
   "metadata": {},
   "outputs": [],
   "source": [
    "full_name[0::5]"
   ]
  },
  {
   "cell_type": "code",
   "execution_count": null,
   "id": "da19ab96",
   "metadata": {},
   "outputs": [],
   "source": [
    "full_name[::-1]"
   ]
  },
  {
   "cell_type": "code",
   "execution_count": null,
   "id": "24970870",
   "metadata": {},
   "outputs": [],
   "source": [
    "country."
   ]
  },
  {
   "cell_type": "code",
   "execution_count": null,
   "id": "fd7780d3",
   "metadata": {},
   "outputs": [],
   "source": [
    "#built-in methods in strings\n",
    "country. = \"ireland\""
   ]
  },
  {
   "cell_type": "code",
   "execution_count": null,
   "id": "081eef2c",
   "metadata": {},
   "outputs": [],
   "source": [
    "sur_name [jeffery]"
   ]
  },
  {
   "cell_type": "code",
   "execution_count": null,
   "id": "3e8e62c9",
   "metadata": {},
   "outputs": [],
   "source": [
    "sur_name[0]"
   ]
  },
  {
   "cell_type": "code",
   "execution_count": null,
   "id": "dd93ab59",
   "metadata": {},
   "outputs": [],
   "source": [
    "sur_name[4]"
   ]
  },
  {
   "cell_type": "code",
   "execution_count": null,
   "id": "f845230e",
   "metadata": {},
   "outputs": [],
   "source": [
    "sur_name[0:4]"
   ]
  },
  {
   "cell_type": "code",
   "execution_count": null,
   "id": "3d6deb63",
   "metadata": {},
   "outputs": [],
   "source": [
    "country.capitalize()"
   ]
  },
  {
   "cell_type": "code",
   "execution_count": null,
   "id": "be08e6ea",
   "metadata": {},
   "outputs": [],
   "source": [
    "country = \"Nigeria\""
   ]
  },
  {
   "cell_type": "code",
   "execution_count": null,
   "id": "cc045bc5",
   "metadata": {},
   "outputs": [],
   "source": [
    "country.capital()"
   ]
  },
  {
   "cell_type": "code",
   "execution_count": null,
   "id": "fb73c7f5",
   "metadata": {},
   "outputs": [],
   "source": []
  },
  {
   "cell_type": "code",
   "execution_count": null,
   "id": "c650c5f4",
   "metadata": {},
   "outputs": [],
   "source": []
  },
  {
   "cell_type": "code",
   "execution_count": null,
   "id": "934fd060",
   "metadata": {},
   "outputs": [],
   "source": [
    "country.upper()"
   ]
  },
  {
   "cell_type": "code",
   "execution_count": null,
   "id": "35be7796",
   "metadata": {},
   "outputs": [],
   "source": [
    "comment = \"I love 10Alytics\""
   ]
  },
  {
   "cell_type": "code",
   "execution_count": null,
   "id": "c58126c6",
   "metadata": {},
   "outputs": [],
   "source": [
    "comment.split()"
   ]
  },
  {
   "cell_type": "markdown",
   "id": "d3a9789c",
   "metadata": {},
   "source": [
    "## Print Formatting\n",
    "There are several ways to present the output of a program, data can be printed in a human-readable form, or written to a file for future use, or even in some other specified form. Sometimes user often wants more control over the formatting of output than simply printing space-separated values. There are several ways to format output. "
   ]
  },
  {
   "cell_type": "code",
   "execution_count": null,
   "id": "d4571116",
   "metadata": {},
   "outputs": [],
   "source": [
    "name = \"Damilola\"\n",
    "age = 20"
   ]
  },
  {
   "cell_type": "code",
   "execution_count": null,
   "id": "2dce46e9",
   "metadata": {},
   "outputs": [],
   "source": [
    "# .format method\n",
    "print(f\"my name is {name} and i am {age} years old\")"
   ]
  },
  {
   "cell_type": "code",
   "execution_count": null,
   "id": "cf965d37",
   "metadata": {},
   "outputs": [],
   "source": [
    "first_name = input(\"What is your first name: \")\n",
    "last_name = input(\"What is your last name: \")\n",
    "\n",
    "full_name = first_name + \" \" + last_name\n",
    "\n",
    "print(\"My first name is {} and my last name is {}. So my full name is {}\".format(first_name, last_name, full_name))"
   ]
  },
  {
   "cell_type": "code",
   "execution_count": null,
   "id": "c8bef070",
   "metadata": {},
   "outputs": [],
   "source": [
    "#Placeholder\n",
    "\n",
    "name = \"Damilola\"\n",
    "age = 20\n",
    "\n",
    "print(\"my name is %s and i am %s years old\" %(name, age))"
   ]
  },
  {
   "cell_type": "code",
   "execution_count": null,
   "id": "6476399b",
   "metadata": {},
   "outputs": [],
   "source": [
    "#F-strings\n",
    "\n",
    "name = \"Damilola\"\n",
    "age = 20\n",
    "\n",
    "print(f\"my name is {name} and i am {age} years old\")"
   ]
  },
  {
   "cell_type": "markdown",
   "id": "65563437",
   "metadata": {},
   "source": [
    "## List\n",
    "An ordered sequence of items is called List. It is a very flexible data type in Python. There is no need for the value in the list to be of the same data type. The List is the data type that is highly used data type in Python. List datatype is the most exclusive datatype in Python for containing versatile data. It can easily hold different types of data in Python.  "
   ]
  },
  {
   "cell_type": "code",
   "execution_count": null,
   "id": "902b6857",
   "metadata": {},
   "outputs": [],
   "source": [
    "name = [\"Dami\", \"Uche\", \"Jumoke\", \"Demola\"]\n",
    "name.append(\"luck\")\n",
    "name"
   ]
  },
  {
   "cell_type": "code",
   "execution_count": null,
   "id": "7113b9cf",
   "metadata": {},
   "outputs": [],
   "source": [
    "name[0::]"
   ]
  },
  {
   "cell_type": "code",
   "execution_count": null,
   "id": "51a704e2",
   "metadata": {},
   "outputs": [],
   "source": [
    "name"
   ]
  },
  {
   "cell_type": "code",
   "execution_count": null,
   "id": "6a969903",
   "metadata": {},
   "outputs": [],
   "source": [
    "age = [1,2,3,4,5]"
   ]
  },
  {
   "cell_type": "code",
   "execution_count": null,
   "id": "ca6f02ee",
   "metadata": {},
   "outputs": [],
   "source": [
    "age.append(\"20\")\n",
    "age"
   ]
  },
  {
   "cell_type": "code",
   "execution_count": null,
   "id": "c673455b",
   "metadata": {},
   "outputs": [],
   "source": [
    "my_list = [\"Yomi\", 10, 10.5, \"10Alytics\", 100.2]"
   ]
  },
  {
   "cell_type": "code",
   "execution_count": null,
   "id": "a8f9070a",
   "metadata": {},
   "outputs": [],
   "source": [
    "type(my_list)"
   ]
  },
  {
   "cell_type": "code",
   "execution_count": null,
   "id": "79d66f1f",
   "metadata": {},
   "outputs": [],
   "source": [
    "len(my_list)"
   ]
  },
  {
   "cell_type": "code",
   "execution_count": null,
   "id": "da853aa1",
   "metadata": {},
   "outputs": [],
   "source": [
    "#Indexing and Slicing\n",
    "my_list[0]"
   ]
  },
  {
   "cell_type": "code",
   "execution_count": null,
   "id": "ba24ebb1",
   "metadata": {},
   "outputs": [],
   "source": [
    "my_list[4]"
   ]
  },
  {
   "cell_type": "code",
   "execution_count": null,
   "id": "85a989c3",
   "metadata": {},
   "outputs": [],
   "source": [
    "my_list[-1]"
   ]
  },
  {
   "cell_type": "code",
   "execution_count": null,
   "id": "bdaee4ba",
   "metadata": {},
   "outputs": [],
   "source": [
    "#Slicing\n",
    "my_list[0::3]"
   ]
  },
  {
   "cell_type": "code",
   "execution_count": null,
   "id": "77536d79",
   "metadata": {},
   "outputs": [],
   "source": [
    "my_list[1::3]"
   ]
  },
  {
   "cell_type": "code",
   "execution_count": null,
   "id": "ec40f19f",
   "metadata": {},
   "outputs": [],
   "source": [
    "name"
   ]
  },
  {
   "cell_type": "code",
   "execution_count": null,
   "id": "e760b1fc",
   "metadata": {},
   "outputs": [],
   "source": [
    "name_1 = name + [\"Sodiq\"]\n",
    "\n",
    "name_1"
   ]
  },
  {
   "cell_type": "code",
   "execution_count": null,
   "id": "f31568db",
   "metadata": {},
   "outputs": [],
   "source": [
    "name.append(\"Oreoluwa\")"
   ]
  },
  {
   "cell_type": "code",
   "execution_count": null,
   "id": "f2c2e8b4",
   "metadata": {},
   "outputs": [],
   "source": [
    "name"
   ]
  },
  {
   "cell_type": "code",
   "execution_count": null,
   "id": "537f0f29",
   "metadata": {},
   "outputs": [],
   "source": [
    "name.append(\"Chuka\")"
   ]
  },
  {
   "cell_type": "code",
   "execution_count": null,
   "id": "b213ceb2",
   "metadata": {},
   "outputs": [],
   "source": [
    "name"
   ]
  },
  {
   "cell_type": "code",
   "execution_count": null,
   "id": "d7c8f92c",
   "metadata": {},
   "outputs": [],
   "source": [
    "name.pop(2)"
   ]
  },
  {
   "cell_type": "code",
   "execution_count": null,
   "id": "9b78a9ab",
   "metadata": {},
   "outputs": [],
   "source": [
    "name.pop()"
   ]
  },
  {
   "cell_type": "code",
   "execution_count": null,
   "id": "eec85c80",
   "metadata": {},
   "outputs": [],
   "source": [
    "name.pop(3)"
   ]
  },
  {
   "cell_type": "code",
   "execution_count": null,
   "id": "5f76cb2e",
   "metadata": {},
   "outputs": [],
   "source": [
    "name"
   ]
  },
  {
   "cell_type": "code",
   "execution_count": null,
   "id": "2f7a5643",
   "metadata": {},
   "outputs": [],
   "source": [
    "list_1 = [10, 1, 2, 3, 4, 20, 35]\n",
    "list_1[-1]"
   ]
  },
  {
   "cell_type": "code",
   "execution_count": null,
   "id": "f3d5adeb",
   "metadata": {},
   "outputs": [],
   "source": [
    "list_1.reverse()\n",
    "\n",
    "list_1"
   ]
  },
  {
   "cell_type": "markdown",
   "id": "b22c077c",
   "metadata": {},
   "source": [
    "## Dictionaries\n",
    "Dictionary is a type of python data type in which collections are unordered, and values are in pairs called key-value pairs. This type of data type is useful when there is a high volume of data. Braces {} (curly brackets) are used to define dictionaries data type in Python. A Pair in the dictionary data type is an item which is represented as key:value. The value and the key can be of any data type."
   ]
  },
  {
   "cell_type": "code",
   "execution_count": null,
   "id": "bc47bfd3",
   "metadata": {},
   "outputs": [],
   "source": []
  },
  {
   "cell_type": "code",
   "execution_count": null,
   "id": "6954edaa",
   "metadata": {},
   "outputs": [],
   "source": [
    "list_1.pop(1)\n",
    "\n",
    "list_1"
   ]
  },
  {
   "cell_type": "code",
   "execution_count": null,
   "id": "95a876e6",
   "metadata": {},
   "outputs": [],
   "source": [
    "my_dict = {\"key1\": \"Value1\", \"key2\":\"value2\", \"key3\":\"value3\"}"
   ]
  },
  {
   "cell_type": "code",
   "execution_count": null,
   "id": "902da715",
   "metadata": {},
   "outputs": [],
   "source": [
    "my_dict"
   ]
  },
  {
   "cell_type": "code",
   "execution_count": null,
   "id": "912f469c",
   "metadata": {},
   "outputs": [],
   "source": [
    "my_dict[\"key2\"]"
   ]
  },
  {
   "cell_type": "code",
   "execution_count": null,
   "id": "0b88334b",
   "metadata": {},
   "outputs": [],
   "source": [
    "animal = {\"dog\":\"Bingo\", \"cat\":\"Murphy\", \"Donkey\":\"Chris\", \"Lion\": \"Damilola\"}"
   ]
  },
  {
   "cell_type": "code",
   "execution_count": null,
   "id": "605ea82e",
   "metadata": {},
   "outputs": [],
   "source": [
    "animal"
   ]
  },
  {
   "cell_type": "code",
   "execution_count": null,
   "id": "ead9ac42",
   "metadata": {},
   "outputs": [],
   "source": [
    "(animal.pop(dog)"
   ]
  },
  {
   "cell_type": "code",
   "execution_count": null,
   "id": "d9316dad",
   "metadata": {},
   "outputs": [],
   "source": [
    "customer = {\"name\": \"Chidozie\", \"age\": 21, \"address\": \"no 42 kowonleru Junction, Isale Eko\", \"Phone_no\": \"08055674125\"}"
   ]
  },
  {
   "cell_type": "code",
   "execution_count": null,
   "id": "aa65d285",
   "metadata": {},
   "outputs": [],
   "source": [
    "customer[\"address\"]"
   ]
  },
  {
   "cell_type": "code",
   "execution_count": null,
   "id": "46aa4f21",
   "metadata": {},
   "outputs": [],
   "source": [
    "dist_1 = {\"key1\": 12.56, \"Key2\": [12, 35, 46], \"Key3\": [\"Chidi\", \"Chuka\", \"Emeka\"]}"
   ]
  },
  {
   "cell_type": "code",
   "execution_count": null,
   "id": "32447aad",
   "metadata": {},
   "outputs": [],
   "source": [
    "dist_1[\"Key2\"][2]"
   ]
  },
  {
   "cell_type": "code",
   "execution_count": null,
   "id": "35f5b7dd",
   "metadata": {},
   "outputs": [],
   "source": [
    "dt = {}"
   ]
  },
  {
   "cell_type": "code",
   "execution_count": null,
   "id": "d2c65a44",
   "metadata": {},
   "outputs": [],
   "source": [
    "dt[\"name\"] = \"Michael\""
   ]
  },
  {
   "cell_type": "code",
   "execution_count": null,
   "id": "2b1fedb1",
   "metadata": {},
   "outputs": [],
   "source": [
    "dt[\"age\"] = \"55\""
   ]
  },
  {
   "cell_type": "code",
   "execution_count": null,
   "id": "eba4b73b",
   "metadata": {},
   "outputs": [],
   "source": [
    "dt"
   ]
  },
  {
   "cell_type": "code",
   "execution_count": null,
   "id": "f0803294",
   "metadata": {},
   "outputs": [],
   "source": [
    "cost = {}\n",
    "\n",
    "name = input(\"What is your name: \")\n",
    "fixed_cost = int(input(\"What is your fixed cost: \"))\n",
    "variable_cost = int(input(\"What is your variable cost: \"))\n",
    "\n",
    "total_cost = fixed_cost + variable_cost\n",
    "\n",
    "cost[\"name\"] = name\n",
    "cost[\"fixed_cost\"] = fixed_cost\n",
    "cost[\"variable_cost\"] = variable_cost\n",
    "cost[\"total_cost\"] = total_cost\n",
    "\n",
    "cost"
   ]
  },
  {
   "cell_type": "code",
   "execution_count": null,
   "id": "9b293e00",
   "metadata": {},
   "outputs": [],
   "source": [
    "cost[\"name\"]"
   ]
  },
  {
   "cell_type": "code",
   "execution_count": null,
   "id": "cc5f2779",
   "metadata": {},
   "outputs": [],
   "source": [
    "cost.keys()"
   ]
  },
  {
   "cell_type": "code",
   "execution_count": null,
   "id": "e07a3336",
   "metadata": {},
   "outputs": [],
   "source": [
    "cost.values()"
   ]
  },
  {
   "cell_type": "markdown",
   "id": "03729bf5",
   "metadata": {},
   "source": [
    "## Tuple\n",
    "A Tuple is a sequence of items that are in order, and it is not possible to modify the Tuples. The main difference list and tuples are that tuple is immutable, which means it cannot be altered. Tuples are generally faster than the list data type in Python because it cannot be changed or modified like list datatype. The primary use of Tuples is to write-protect data. Tuples can be represented by using parentheses (), and commas are used to separate the items. \n",
    "\n",
    "Days of the week, Months of the year, DOB, etc"
   ]
  },
  {
   "cell_type": "code",
   "execution_count": null,
   "id": "c6e6ce0e",
   "metadata": {},
   "outputs": [],
   "source": [
    "tup = (1,2,3,4,5)"
   ]
  },
  {
   "cell_type": "code",
   "execution_count": null,
   "id": "870001a7",
   "metadata": {},
   "outputs": [],
   "source": [
    "tup"
   ]
  },
  {
   "cell_type": "code",
   "execution_count": null,
   "id": "00d156ca",
   "metadata": {},
   "outputs": [],
   "source": [
    "tup[0] = 13"
   ]
  },
  {
   "cell_type": "code",
   "execution_count": null,
   "id": "a90006c1",
   "metadata": {},
   "outputs": [],
   "source": [
    "len(tup)"
   ]
  },
  {
   "cell_type": "code",
   "execution_count": null,
   "id": "c141aab4",
   "metadata": {},
   "outputs": [],
   "source": [
    "tup_1 = (1, 2.4, \"Wale\", \"10Alytics\", \"Efe\",1,1,1,1,1,1,1,1,1,1)"
   ]
  },
  {
   "cell_type": "code",
   "execution_count": null,
   "id": "21f33f5f",
   "metadata": {},
   "outputs": [],
   "source": [
    "len(tup_1)"
   ]
  },
  {
   "cell_type": "code",
   "execution_count": null,
   "id": "28c0353b",
   "metadata": {},
   "outputs": [],
   "source": [
    "tup_1[-1]"
   ]
  },
  {
   "cell_type": "markdown",
   "id": "407b40ea",
   "metadata": {},
   "source": [
    "## Set\n",
    "The Collection of Unique items that are not in order is called Set. Braces {} are used to defined set and a comma is used to separate values. One will find that the items are unordered in a set data type.\n",
    "\n",
    "Duplicates are eliminated in a set and set only keeps unique values. Operations like intersection and union can be performed on two sets. "
   ]
  },
  {
   "cell_type": "code",
   "execution_count": null,
   "id": "f7229791",
   "metadata": {},
   "outputs": [],
   "source": [
    "a = {2,2,2,2,1,1,1,3,4,5,6,6,7,7,7}"
   ]
  },
  {
   "cell_type": "code",
   "execution_count": null,
   "id": "f09741bc",
   "metadata": {},
   "outputs": [],
   "source": [
    "a"
   ]
  },
  {
   "cell_type": "code",
   "execution_count": null,
   "id": "ae1629d5",
   "metadata": {},
   "outputs": [],
   "source": [
    "name = set()"
   ]
  },
  {
   "cell_type": "code",
   "execution_count": null,
   "id": "d05a0a95",
   "metadata": {},
   "outputs": [],
   "source": [
    "name.add(\"Dami\")"
   ]
  },
  {
   "cell_type": "code",
   "execution_count": null,
   "id": "38651da7",
   "metadata": {},
   "outputs": [],
   "source": [
    "name.add(\"jumoke\")"
   ]
  },
  {
   "cell_type": "code",
   "execution_count": null,
   "id": "858e3520",
   "metadata": {},
   "outputs": [],
   "source": [
    "name.add(\"Yemi\")"
   ]
  },
  {
   "cell_type": "code",
   "execution_count": null,
   "id": "25bad387",
   "metadata": {},
   "outputs": [],
   "source": [
    "name"
   ]
  },
  {
   "cell_type": "code",
   "execution_count": null,
   "id": "ef10893e",
   "metadata": {},
   "outputs": [],
   "source": [
    "num = [1,1,1,1,2,2,2,2,3,3,3,3,3,3,4,4,4,4,5,5,5,5,6,6,6,6,7,7,7,7,8,8,8,8,8]"
   ]
  },
  {
   "cell_type": "code",
   "execution_count": null,
   "id": "4600d805",
   "metadata": {},
   "outputs": [],
   "source": [
    "st = set(num)"
   ]
  },
  {
   "cell_type": "code",
   "execution_count": null,
   "id": "26d56dd9",
   "metadata": {},
   "outputs": [],
   "source": [
    "st"
   ]
  },
  {
   "cell_type": "markdown",
   "id": "9feac85f",
   "metadata": {},
   "source": [
    "## Booleans\n",
    "There can be only two types of value in the Boolean data type of Python, and that is True or False. "
   ]
  },
  {
   "cell_type": "code",
   "execution_count": null,
   "id": "2636596f",
   "metadata": {},
   "outputs": [],
   "source": [
    "type(1 == 1)"
   ]
  },
  {
   "cell_type": "code",
   "execution_count": null,
   "id": "507efdd5",
   "metadata": {},
   "outputs": [],
   "source": [
    "type(False)"
   ]
  },
  {
   "cell_type": "code",
   "execution_count": null,
   "id": "b0e4217c",
   "metadata": {},
   "outputs": [],
   "source": [
    "10 >= 20"
   ]
  },
  {
   "cell_type": "markdown",
   "id": "30361ab9",
   "metadata": {},
   "source": [
    "## Comparison Operators\n",
    "Comparison operators are used to compare two values:\n",
    "\n",
    "* == Equals to\n",
    "* != Not Equals to\n",
    "* #> Greater than\n",
    "* #>= Greater than or equals to\n",
    "* < Less than\n",
    "* <= Less than of equals to"
   ]
  },
  {
   "cell_type": "code",
   "execution_count": null,
   "id": "d0445503",
   "metadata": {},
   "outputs": [],
   "source": [
    "10<=20"
   ]
  },
  {
   "cell_type": "code",
   "execution_count": null,
   "id": "dc114147",
   "metadata": {},
   "outputs": [],
   "source": [
    "20 <= 20"
   ]
  },
  {
   "cell_type": "code",
   "execution_count": null,
   "id": "90b9a1f3",
   "metadata": {},
   "outputs": [],
   "source": [
    "10 != 100"
   ]
  },
  {
   "cell_type": "markdown",
   "id": "174662e2",
   "metadata": {},
   "source": [
    "## If, Elif, Else Statement\n",
    "The Python if statement is same as it is with other programming languages. It executes a set of statements conditionally, based on the value of a logical expression.\n",
    "\n",
    "In Python if .. else statement, if has two blocks, one following the expression and other following the else clause. \n",
    "\n",
    "The if-elif-else statement is used to conditionally execute a statement or a block of statements. Conditions can be true or false, execute one thing when the condition is true, something else when the condition is false."
   ]
  },
  {
   "cell_type": "code",
   "execution_count": null,
   "id": "b47e34c4",
   "metadata": {},
   "outputs": [],
   "source": [
    "name = input(\"What is your name: \")\n",
    "\n",
    "if name == \"Efemena\":\n",
    "    print(f\"Welcome to our kingdom {name}\")\n",
    "else:\n",
    "    print(f\"You are not welcome here. Goodbye {name}\")"
   ]
  },
  {
   "cell_type": "code",
   "execution_count": null,
   "id": "52368cae",
   "metadata": {},
   "outputs": [],
   "source": [
    "name = input(\"What is your name: \")\n",
    "\n",
    "if name == \"Efemena\":\n",
    "    print(f\"Welcome to our kingdom {name}\")\n",
    "elif name == \"Ore\":\n",
    "    print(f\"Welcome to our Palace {name}\")\n",
    "elif name == \"Demola\":\n",
    "    print(f\"Welcome to our Country {name}\")\n",
    "elif name == \"Chidozie\":\n",
    "    print(f\"Welcome to our Village {name}\")\n",
    "elif name == \"Yomi\":\n",
    "    print(f\"Welcome to our Home {name}\")\n",
    "else:\n",
    "    print(f\"You are not welcome here. Goodbye {name}\")"
   ]
  },
  {
   "cell_type": "code",
   "execution_count": null,
   "id": "ed1df9c7",
   "metadata": {},
   "outputs": [],
   "source": [
    "name = input(\"What is your name: \")\n",
    "f_test = int(input(\"What is the score for your first test: \"))\n",
    "s_test = int(input(\"What is the score for your second test: \"))\n",
    "attd = int(input(\"What is the score for your attendance: \"))\n",
    "exam = int(input(\"What is the score for your exam: \"))\n",
    "\n",
    "print(\"-------------------------------------------\")\n",
    "\n",
    "total_score = f_test + s_test + attd + exam\n",
    "\n",
    "if total_score >= 70:\n",
    "    grade = \"A\"\n",
    "elif total_score >= 60:\n",
    "    grade = \"B\"\n",
    "elif total_score >= 50:\n",
    "    grade = \"C\"\n",
    "elif total_score >= 40:\n",
    "    grade = \"D\"\n",
    "else:\n",
    "    grade = \"F\"\n",
    "\n",
    "print(f\"Hello {name}, Your total score is {total_score} and your grade is {grade}\")"
   ]
  },
  {
   "cell_type": "markdown",
   "id": "bdb3ce24",
   "metadata": {},
   "source": [
    "Example\n",
    "\n",
    "* customer type = Corporate and Retail\n",
    "* amount = \n",
    "\n",
    "* corporate\n",
    "* amt < 10000 = 20%\n",
    "* amt < 40000 = 25%\n",
    "* amt >100000 = 40%\n",
    "\n",
    "* Retail\n",
    "* amt < 10000 = 10%\n",
    "* amt < 40000 = 15%\n",
    "* amt >100000 = 30%\n",
    "\n",
    "* print the amount\n",
    "* print the discount\n",
    "* print the amt - discount"
   ]
  },
  {
   "cell_type": "code",
   "execution_count": null,
   "id": "a3c3c3db",
   "metadata": {},
   "outputs": [],
   "source": [
    "cust_type = input(\"what type of customer are you: \")\n",
    "amt = int(input(\"What is your total amount: \"))\n",
    "\n",
    "\n",
    "if cust_type == \"Corporate\":\n",
    "    if amt <= 10000:\n",
    "        discount = 0.2\n",
    "    elif amt <= 40000:\n",
    "        discount = 0.25\n",
    "    else:\n",
    "        discount = 0.4\n",
    "        \n",
    "if cust_type == \"Retail\":\n",
    "    if amt <= 10000:\n",
    "        discount = 0.1\n",
    "    elif amt <= 40000:\n",
    "        discount = 0.15\n",
    "    else:\n",
    "        discount = 0.3\n",
    "\n",
    "t_amt = amt - (amt * discount)\n",
    "\n",
    "print(\"---------------------------------\")\n",
    "print(f\"You total amount is {amt}\")\n",
    "print(f\"Based on your customer type and amount, your discout is {discount}\")\n",
    "print(f\"Your total amount is {t_amt}\")"
   ]
  },
  {
   "cell_type": "code",
   "execution_count": null,
   "id": "40b38d53",
   "metadata": {},
   "outputs": [],
   "source": [
    "customerType = input(\"what type customer are you: \")\n",
    "amount = int(input(\"whats your total amount: \"))\n",
    "\n",
    "if customerType == \"corporate\" and amount <= 10000:\n",
    "    discount = 0.2\n",
    "elif customerType == \"corporate\" and amount <= 40000:\n",
    "    discount = 0.25\n",
    "elif customerType == \"corporate\" and amount > 40000:\n",
    "    discount = 0.4\n",
    "    \n",
    "if customerType == \"retail\" and amount <= 10000:\n",
    "    discount = 0.1\n",
    "elif customerType == \"retail\" and amount <= 40000:\n",
    "    discount = 0.15\n",
    "elif customerType == \"retail\" and amount > 40000:\n",
    "    discount = 0.3\n",
    "\n",
    "\n",
    "total_amt = amount - (amount * discount)\n",
    "        \n",
    "print(\"-----------------------------------\")\n",
    "\n",
    "print(f\"total amount is {amount}\")\n",
    "print(f\"based on your customer type and amount, your discount is {discount}\")\n",
    "print(f\"total amount to be paid {total_amt}\")"
   ]
  },
  {
   "cell_type": "code",
   "execution_count": null,
   "id": "e1127f7a",
   "metadata": {},
   "outputs": [],
   "source": [
    "print(\"efe /nmena\")"
   ]
  },
  {
   "cell_type": "markdown",
   "id": "9dfdd03e",
   "metadata": {},
   "source": [
    "## For Loop\n",
    "A for loop is used for iterating over a sequence (that is either a list, a tuple, a dictionary, a set, or a string).\n",
    "\n",
    "This is less like the for keyword in other programming languages, and works more like an iterator method as found in other object-orientated programming languages.\n",
    "\n",
    "With the for loop we can execute a set of statements, once for each item in a list, tuple, set etc."
   ]
  },
  {
   "cell_type": "code",
   "execution_count": null,
   "id": "f4d8613e",
   "metadata": {},
   "outputs": [],
   "source": [
    "list1 = [1,2,3,4,5]"
   ]
  },
  {
   "cell_type": "code",
   "execution_count": null,
   "id": "5e131ad5",
   "metadata": {},
   "outputs": [],
   "source": [
    "list1"
   ]
  },
  {
   "cell_type": "code",
   "execution_count": null,
   "id": "034d8b4a",
   "metadata": {},
   "outputs": [],
   "source": [
    "for num in list1:\n",
    "    print(num)"
   ]
  },
  {
   "cell_type": "code",
   "execution_count": null,
   "id": "2a00ac51",
   "metadata": {},
   "outputs": [],
   "source": [
    "# Print all even numbers\n",
    "\n",
    "list1 = [1,2,3,4,5,6,7,8,9,10]\n",
    "\n",
    "for i in list1:\n",
    "    if i % 2 == 0:\n",
    "        print(f\"{i} is an even number\")"
   ]
  },
  {
   "cell_type": "code",
   "execution_count": null,
   "id": "7540da12",
   "metadata": {},
   "outputs": [],
   "source": [
    "# Print all odd numbers\n",
    "\n",
    "list1 = [1,2,3,4,5,6,7,8,9,10]\n",
    "\n",
    "for i in list1:\n",
    "    if i % 2 == 1:\n",
    "        print(f\"{i} is an odd number\")"
   ]
  },
  {
   "cell_type": "code",
   "execution_count": null,
   "id": "89b93362",
   "metadata": {},
   "outputs": [],
   "source": [
    "list1 = [1,2,3,4,5,6,7,8,9,10]\n",
    "sum_list = 0\n",
    "\n",
    "for i in list1:\n",
    "    sum_list = sum_list + i\n",
    "    print(sum_list)\n"
   ]
  },
  {
   "cell_type": "code",
   "execution_count": null,
   "id": "c87e9666",
   "metadata": {},
   "outputs": [],
   "source": [
    "for i in list1:\n",
    "    print(\"10Alytics\")"
   ]
  },
  {
   "cell_type": "code",
   "execution_count": null,
   "id": "00d92d28",
   "metadata": {},
   "outputs": [],
   "source": [
    "num_times = [1,2,3,4,5]\n",
    "score = 0\n",
    "\n",
    "print(\"Calculator\")\n",
    "\n",
    "for i in num_times:\n",
    "    print(score)\n",
    "    num = int(input(\"what is your score: \"))\n",
    "    score = score + num\n",
    "    \n",
    "    \n",
    "    \n",
    "print(\"-----------------------------\")    \n",
    "print(f\"Your final score is {score}\")"
   ]
  },
  {
   "cell_type": "markdown",
   "id": "f5d212e0",
   "metadata": {},
   "source": [
    "## While Loop\n",
    "The while loop in Python is used to iterate over a block of code as long as the test expression (condition) is true.\n",
    "\n",
    "We generally use this loop when we don't know the number of times to iterate beforehand."
   ]
  },
  {
   "cell_type": "code",
   "execution_count": null,
   "id": "d9762330",
   "metadata": {},
   "outputs": [],
   "source": [
    "name = input(\"What is your name: \")\n",
    "\n",
    "while name == \"Efemena\":\n",
    "    print(\"10Alytics\")\n",
    "    name = input(\"What is your name: \")\n",
    "        "
   ]
  },
  {
   "cell_type": "code",
   "execution_count": null,
   "id": "0aa5c98f",
   "metadata": {},
   "outputs": [],
   "source": [
    "x = 0\n",
    "\n",
    "while x < 10:\n",
    "    print(f\"{x} is currently less than 10\")\n",
    "    x = x + 1 \n"
   ]
  },
  {
   "cell_type": "code",
   "execution_count": null,
   "id": "7c89ac35",
   "metadata": {},
   "outputs": [],
   "source": [
    "answer = \"yes\"\n",
    "\n",
    "while answer == \"yes\":\n",
    "    name = input(\"What is your name: \")\n",
    "    question = input(\"What training are you interested in: \")\n",
    "    print(\"-------------------------------\")\n",
    "    print(f\"hello {name}\")\n",
    "    print(f\"The training on {question} will commence shortly\")\n",
    "    \n",
    "    answer = input(\"Do you want to continue: yes/no\")\n",
    "    \n",
    "print(\"Goodbye\")"
   ]
  },
  {
   "cell_type": "markdown",
   "id": "857b429d",
   "metadata": {},
   "source": [
    "## Function\n",
    "In Python, a function is a group of related statements that performs a specific task.\n",
    "\n",
    "Functions help break our program into smaller and modular chunks. As our program grows larger and larger, functions make it more organized and manageable.\n",
    "\n",
    "Furthermore, it avoids repetition and makes the code reusable."
   ]
  },
  {
   "cell_type": "code",
   "execution_count": null,
   "id": "aaaaab7d",
   "metadata": {},
   "outputs": [],
   "source": [
    "list1 = [1,2,3,4,5]"
   ]
  },
  {
   "cell_type": "code",
   "execution_count": null,
   "id": "5adc85bf",
   "metadata": {},
   "outputs": [],
   "source": [
    "a = sum(list1)\n",
    "print(a)"
   ]
  },
  {
   "cell_type": "code",
   "execution_count": null,
   "id": "e223ec64",
   "metadata": {},
   "outputs": [],
   "source": [
    "def name_of_function(arg1,arg2):\n",
    "    '''\n",
    "    This is where the function's Document String (docstring) goes.\n",
    "    When you call help() on your function it will be printed out.\n",
    "    '''\n",
    "    # Do stuff here\n",
    "    # Return desired result"
   ]
  },
  {
   "cell_type": "code",
   "execution_count": null,
   "id": "0955b406",
   "metadata": {},
   "outputs": [],
   "source": [
    "def greeting():\n",
    "    print(\"hello\")"
   ]
  },
  {
   "cell_type": "code",
   "execution_count": null,
   "id": "c29c7042",
   "metadata": {},
   "outputs": [],
   "source": [
    "greeting()"
   ]
  },
  {
   "cell_type": "code",
   "execution_count": null,
   "id": "84cc2fb9",
   "metadata": {},
   "outputs": [],
   "source": [
    "def greeting(name):\n",
    "    print(\"Hello :\", name)"
   ]
  },
  {
   "cell_type": "code",
   "execution_count": null,
   "id": "fde8b218",
   "metadata": {},
   "outputs": [],
   "source": [
    "greeting(\"james\")"
   ]
  },
  {
   "cell_type": "code",
   "execution_count": null,
   "id": "73df56ed",
   "metadata": {},
   "outputs": [],
   "source": [
    "def addition():\n",
    "    num = 0\n",
    "    for i in range(3):\n",
    "        num_1 = float(input(\"Enter a number: \"))\n",
    "        num += num_1\n",
    "    print(\"-------\")\n",
    "    return print(f\"Your total is: {num}\")"
   ]
  },
  {
   "cell_type": "code",
   "execution_count": null,
   "id": "8fe5cc93",
   "metadata": {},
   "outputs": [],
   "source": [
    "addition()"
   ]
  },
  {
   "cell_type": "code",
   "execution_count": null,
   "id": "e00b36a9",
   "metadata": {},
   "outputs": [],
   "source": [
    "def sqr(x):\n",
    "    num = x ** 2\n",
    "    return num"
   ]
  },
  {
   "cell_type": "code",
   "execution_count": null,
   "id": "8245f3aa",
   "metadata": {},
   "outputs": [],
   "source": [
    "sqr(100)"
   ]
  },
  {
   "cell_type": "code",
   "execution_count": null,
   "id": "08036949",
   "metadata": {},
   "outputs": [],
   "source": [
    "# Convert any username into a lower case\n",
    "\n",
    "def convert(name):\n",
    "    user = name.lower()\n",
    "    return user"
   ]
  },
  {
   "cell_type": "code",
   "execution_count": null,
   "id": "4d4f4998",
   "metadata": {},
   "outputs": [],
   "source": [
    "convert(\"JoHN\")"
   ]
  },
  {
   "cell_type": "code",
   "execution_count": null,
   "id": "ce871b17",
   "metadata": {},
   "outputs": [],
   "source": [
    "def convert():\n",
    "    name = input(\"what is your name: \")\n",
    "    user = name.lower()\n",
    "    return user"
   ]
  },
  {
   "cell_type": "code",
   "execution_count": null,
   "id": "54977736",
   "metadata": {},
   "outputs": [],
   "source": [
    "convert()"
   ]
  },
  {
   "cell_type": "code",
   "execution_count": null,
   "id": "712f306b",
   "metadata": {},
   "outputs": [],
   "source": [
    "def ans():\n",
    "    answer = \"yes\"\n",
    "\n",
    "    while answer == \"yes\":\n",
    "        name = input(\"What is your name: \")\n",
    "        question = input(\"What training are you interested in: \")\n",
    "        print(\"-------------------------------\")\n",
    "        print(f\"hello {name}\")\n",
    "        print(f\"The training on {question} will commence shortly\")\n",
    "    \n",
    "        answer = input(\"Do you want to continue: yes/no: \")\n",
    "        answer.lower()\n",
    "    \n",
    "    print(\"Goodbye\")"
   ]
  },
  {
   "cell_type": "code",
   "execution_count": null,
   "id": "eb3f0475",
   "metadata": {},
   "outputs": [],
   "source": [
    "ans()"
   ]
  },
  {
   "cell_type": "code",
   "execution_count": null,
   "id": "d07340c1",
   "metadata": {},
   "outputs": [],
   "source": [
    "# Guess game\n",
    "\n",
    "from random import shuffle\n",
    "\n",
    "list_1 = list(range(1,5))\n",
    "\n",
    "def game():\n",
    "    print(\"You have 5 trials\")\n",
    "    print(\"----------------------------\")\n",
    "    for i in range(5):\n",
    "        shuffle(list_1)\n",
    "        guess = list_1[3]\n",
    "        num = int(input(\"What is your lucky number: \"))\n",
    "        if guess == num:\n",
    "            print(\"You are the WINNER!!!\")\n",
    "        else:\n",
    "            print(\"JAPA\")\n",
    "            \n",
    "    return print(\"You are done\")"
   ]
  },
  {
   "cell_type": "code",
   "execution_count": null,
   "id": "4213d842",
   "metadata": {},
   "outputs": [],
   "source": [
    "game()"
   ]
  },
  {
   "cell_type": "code",
   "execution_count": null,
   "id": "4f7fd371",
   "metadata": {},
   "outputs": [],
   "source": [
    "def total_cost(fixed_cost, variable_cost, mixed_cost):\n",
    "    tc = fixed_cost + variable_cost + mixed_cost\n",
    "    return tc"
   ]
  },
  {
   "cell_type": "code",
   "execution_count": null,
   "id": "a50ecb22",
   "metadata": {},
   "outputs": [],
   "source": [
    "total_cost(10,50,100)"
   ]
  },
  {
   "cell_type": "markdown",
   "id": "bb829319",
   "metadata": {},
   "source": [
    "### Map Function\n",
    "Mapping consists of applying a transformation function to an iterable to produce a new iterable. Items in the new iterable are produced by calling the transformation function on each item in the original iterable."
   ]
  },
  {
   "cell_type": "code",
   "execution_count": 13,
   "id": "79efe12c",
   "metadata": {},
   "outputs": [],
   "source": [
    "def sqr(x):\n",
    "    num = x ** 2\n",
    "    return num"
   ]
  },
  {
   "cell_type": "code",
   "execution_count": 14,
   "id": "12bd7329",
   "metadata": {},
   "outputs": [
    {
     "data": {
      "text/plain": [
       "[1, 2, 3, 4, 5, 6, 7, 8, 9, 10]"
      ]
     },
     "execution_count": 14,
     "metadata": {},
     "output_type": "execute_result"
    }
   ],
   "source": [
    "num = list(range(1,11))\n",
    "num"
   ]
  },
  {
   "cell_type": "code",
   "execution_count": 15,
   "id": "9d4e7153",
   "metadata": {},
   "outputs": [
    {
     "data": {
      "text/plain": [
       "[1, 4, 9, 16, 25, 36, 49, 64, 81, 100]"
      ]
     },
     "execution_count": 15,
     "metadata": {},
     "output_type": "execute_result"
    }
   ],
   "source": [
    "list(map(sqr, num))"
   ]
  },
  {
   "cell_type": "code",
   "execution_count": null,
   "id": "4974c56a",
   "metadata": {},
   "outputs": [],
   "source": [
    "def grade(x):\n",
    "    if x >= 70:\n",
    "        result = \"A\"\n",
    "    elif x >= 60:\n",
    "        result = \"B\"\n",
    "    elif x >= 50:\n",
    "        result = \"C\"\n",
    "    else:\n",
    "        result = \"F\"\n",
    "        \n",
    "    return result"
   ]
  },
  {
   "cell_type": "code",
   "execution_count": null,
   "id": "757ff118",
   "metadata": {},
   "outputs": [],
   "source": [
    "score = [50, 72, 45, 20, 63, 60]"
   ]
  },
  {
   "cell_type": "code",
   "execution_count": null,
   "id": "65da41f1",
   "metadata": {},
   "outputs": [],
   "source": [
    "list(map(grade, score))"
   ]
  },
  {
   "cell_type": "code",
   "execution_count": null,
   "id": "a5ddea54",
   "metadata": {},
   "outputs": [],
   "source": [
    "for i in score:\n",
    "    print(f'{i} is equivalent to {grade(i)}')"
   ]
  },
  {
   "cell_type": "code",
   "execution_count": null,
   "id": "11f3d244",
   "metadata": {},
   "outputs": [],
   "source": [
    "# if the length of your name is an even number return Yes else No\n",
    "\n",
    "name = [\"Damilola\", \"Michael\", \"Demola\", \"Jumoke\", \"Jay\", \"Chidozie\"]\n",
    "\n",
    "def even_odd(names):\n",
    "    if len(names) % 2 == 0:\n",
    "        category =  \"Even\"\n",
    "    else:\n",
    "         category = \"Odd\"\n",
    "    \n",
    "    return category"
   ]
  },
  {
   "cell_type": "code",
   "execution_count": null,
   "id": "cef10e59",
   "metadata": {},
   "outputs": [],
   "source": [
    "list(map(even_odd, name))"
   ]
  },
  {
   "cell_type": "markdown",
   "id": "684049a8",
   "metadata": {},
   "source": [
    "### Filter Function\n",
    "Filtering consists of applying a predicate or Boolean-valued function to an iterable to generate a new iterable. Items in the new iterable are produced by filtering out any items in the original iterable that make the predicate function return false."
   ]
  },
  {
   "cell_type": "code",
   "execution_count": 18,
   "id": "cca0f2a5",
   "metadata": {},
   "outputs": [],
   "source": [
    "name = [\"Damilola\", \"Michael\", \"Demola\", \"Jumoke\", \"Jay\", \"Chidozie\"]\n",
    "\n",
    "def even_odd(x):\n",
    "    if len(x) % 2 == 0:\n",
    "        return x  \n",
    "    "
   ]
  },
  {
   "cell_type": "code",
   "execution_count": 19,
   "id": "3809f8e2",
   "metadata": {},
   "outputs": [
    {
     "data": {
      "text/plain": [
       "['Damilola', 'Demola', 'Jumoke', 'Chidozie']"
      ]
     },
     "execution_count": 19,
     "metadata": {},
     "output_type": "execute_result"
    }
   ],
   "source": [
    "list(filter(even_odd, name))"
   ]
  },
  {
   "cell_type": "code",
   "execution_count": null,
   "id": "22bc3c98",
   "metadata": {},
   "outputs": [],
   "source": [
    "english = list(range(1, 21))\n",
    "english"
   ]
  },
  {
   "cell_type": "code",
   "execution_count": null,
   "id": "f1c70e70",
   "metadata": {},
   "outputs": [],
   "source": [
    "def even(x):\n",
    "    if x % 2 == 0:\n",
    "        return x "
   ]
  },
  {
   "cell_type": "code",
   "execution_count": null,
   "id": "cd511be2",
   "metadata": {},
   "outputs": [],
   "source": [
    "list(filter(even, english))"
   ]
  },
  {
   "cell_type": "code",
   "execution_count": null,
   "id": "653af6cd",
   "metadata": {},
   "outputs": [],
   "source": [
    "name = ['ademola','kamoru','latifat','jerimiah','chuchudi','benjamin','orevaoghene']\n",
    "name.sort()\n",
    "name"
   ]
  },
  {
   "cell_type": "code",
   "execution_count": null,
   "id": "2c86b1c2",
   "metadata": {},
   "outputs": [],
   "source": [
    "# to sort list based on len of item in the list\n",
    "name.sort(key=lambda  x:  len(x))"
   ]
  },
  {
   "cell_type": "code",
   "execution_count": null,
   "id": "38167bfe",
   "metadata": {},
   "outputs": [],
   "source": [
    "print (name)"
   ]
  },
  {
   "cell_type": "markdown",
   "id": "f40294ff",
   "metadata": {},
   "source": [
    "### Lambda Expressions\n",
    "A lambda function is a small anonymous function.\n",
    "\n",
    "A lambda function can take any number of arguments, but can only have one expression."
   ]
  },
  {
   "cell_type": "code",
   "execution_count": null,
   "id": "6447fdf9",
   "metadata": {},
   "outputs": [],
   "source": [
    "x = lambda a: a + 10\n",
    "print(x(10))"
   ]
  },
  {
   "cell_type": "code",
   "execution_count": null,
   "id": "a9c589ee",
   "metadata": {},
   "outputs": [],
   "source": [
    "num = lambda a, b, c: a*b-c\n",
    "print(num(10, 5, 3))"
   ]
  },
  {
   "cell_type": "code",
   "execution_count": null,
   "id": "e3952f19",
   "metadata": {},
   "outputs": [],
   "source": [
    " number= lambda n: n+2\n",
    " print(number(10))"
   ]
  },
  {
   "cell_type": "code",
   "execution_count": null,
   "id": "4c19adfb",
   "metadata": {},
   "outputs": [],
   "source": [
    "def addition_calculator(n):\n",
    "    number= n+2\n",
    "    return number\n",
    "addition_calculator(10)"
   ]
  },
  {
   "cell_type": "code",
   "execution_count": null,
   "id": "d9cc5c54",
   "metadata": {},
   "outputs": [],
   "source": [
    "double = lambda n : n*2\n",
    "print(double(12))\n"
   ]
  },
  {
   "cell_type": "code",
   "execution_count": 2,
   "id": "834626d3",
   "metadata": {},
   "outputs": [
    {
     "name": "stdout",
     "output_type": "stream",
     "text": [
      "10\n"
     ]
    }
   ],
   "source": [
    "greater_number = lambda a,b: a if a>b else b\n",
    "print(greater_number(4,10))"
   ]
  },
  {
   "cell_type": "code",
   "execution_count": 5,
   "id": "e216e143",
   "metadata": {},
   "outputs": [
    {
     "name": "stdout",
     "output_type": "stream",
     "text": [
      "[4, 10, 12, 14, 16, 18, 0]\n"
     ]
    }
   ],
   "source": [
    "list_map = [2,5,6,7,8,9,0]\n",
    "squared_list =list (map(lambda n:n*2,list_map))\n",
    "print(squared_list)\n"
   ]
  },
  {
   "cell_type": "code",
   "execution_count": 7,
   "id": "624655e5",
   "metadata": {},
   "outputs": [
    {
     "name": "stdout",
     "output_type": "stream",
     "text": [
      "[13, 18, 24, 29, 156]\n"
     ]
    }
   ],
   "source": [
    "list_11=[2,5,8,9,99]\n",
    "list_22=[8,7,8,9,12]\n",
    "list_33=[3,6,8,11,45]\n",
    "add_all =list(map(lambda n1,n2,n3:n1+n2+n3 ,list_11,list_22,list_33))\n",
    "print (add_all)"
   ]
  },
  {
   "cell_type": "code",
   "execution_count": 17,
   "id": "94e54e39",
   "metadata": {},
   "outputs": [
    {
     "name": "stdout",
     "output_type": "stream",
     "text": [
      "[1, 4, 9, 16, 25, 36, 49, 64, 81, 100]\n"
     ]
    }
   ],
   "source": [
    "range_list =list(range(1,11))\n",
    "map_list=list(map(lambda n:n**2,range_list))\n",
    "print(map_list)"
   ]
  },
  {
   "cell_type": "code",
   "execution_count": 21,
   "id": "8769c92b",
   "metadata": {},
   "outputs": [
    {
     "data": {
      "text/plain": [
       "['Michael', 'Jay']"
      ]
     },
     "execution_count": 21,
     "metadata": {},
     "output_type": "execute_result"
    }
   ],
   "source": [
    "name_filter = [\"Damilola\", \"Michael\", \"Demola\", \"Jumoke\", \"Jay\", \"Chidozie\"]\n",
    "name=list(filter(lambda x: len(x)%2!=0,name_filter))\n",
    "name"
   ]
  },
  {
   "cell_type": "code",
   "execution_count": 23,
   "id": "46f69ecd",
   "metadata": {},
   "outputs": [
    {
     "data": {
      "text/plain": [
       "['Jay', 'Michael']"
      ]
     },
     "execution_count": 23,
     "metadata": {},
     "output_type": "execute_result"
    }
   ],
   "source": [
    "name.sort(key=lambda x:len(x))\n",
    "name"
   ]
  },
  {
   "cell_type": "code",
   "execution_count": null,
   "id": "31396205",
   "metadata": {},
   "outputs": [],
   "source": []
  }
 ],
 "metadata": {
  "kernelspec": {
   "display_name": "Python 3 (ipykernel)",
   "language": "python",
   "name": "python3"
  },
  "language_info": {
   "codemirror_mode": {
    "name": "ipython",
    "version": 3
   },
   "file_extension": ".py",
   "mimetype": "text/x-python",
   "name": "python",
   "nbconvert_exporter": "python",
   "pygments_lexer": "ipython3",
   "version": "3.9.12"
  }
 },
 "nbformat": 4,
 "nbformat_minor": 5
}
